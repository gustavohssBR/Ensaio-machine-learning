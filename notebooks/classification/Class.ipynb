{
 "cells": [
  {
   "cell_type": "code",
   "execution_count": 1,
   "metadata": {},
   "outputs": [
    {
     "name": "stderr",
     "output_type": "stream",
     "text": [
      "/tmp/ipykernel_4913/2240729884.py:1: DeprecationWarning: \n",
      "Pyarrow will become a required dependency of pandas in the next major release of pandas (pandas 3.0),\n",
      "(to allow more performant data types, such as the Arrow string type, and better interoperability with other libraries)\n",
      "but was not found to be installed on your system.\n",
      "If this would cause problems for you,\n",
      "please provide us feedback at https://github.com/pandas-dev/pandas/issues/54466\n",
      "        \n",
      "  import pandas            as pd\n"
     ]
    }
   ],
   "source": [
    "import pandas            as pd\n",
    "import numpy             as np\n",
    "import sklearn.metrics   as mt\n",
    "import matplotlib.pyplot as plt\n",
    "\n",
    "from sklearn.neighbors    import KNeighborsClassifier\n",
    "from sklearn.tree         import DecisionTreeClassifier\n",
    "from sklearn.ensemble     import RandomForestClassifier\n",
    "from sklearn.linear_model import LogisticRegression\n",
    "from sklearn.preprocessing import StandardScaler, Normalizer\n"
   ]
  },
  {
   "cell_type": "code",
   "execution_count": 2,
   "metadata": {},
   "outputs": [],
   "source": [
    "path_xtrain = 'datasets//X_training.csv'\n",
    "path_ytrain = 'datasets//y_training.csv'\n",
    "\n",
    "X_train = pd.read_csv( path_xtrain )\n",
    "y_train = pd.read_csv( path_ytrain )\n",
    "\n",
    "path_xtest = 'datasets//X_test.csv'\n",
    "path_ytest = 'datasets//y_test.csv'\n",
    "\n",
    "X_test = pd.read_csv( path_xtest )\n",
    "y_test = pd.read_csv( path_ytest )\n",
    "\n",
    "path_xval = 'datasets//X_validation.csv'\n",
    "path_yval = 'datasets//y_validation.csv'\n",
    "\n",
    "X_val = pd.read_csv( path_xval )\n",
    "y_val = pd.read_csv( path_yval )\n"
   ]
  },
  {
   "cell_type": "code",
   "execution_count": 3,
   "metadata": {},
   "outputs": [],
   "source": [
    "features=  ['age', 'class', 'flight_distance',\n",
    "       'inflight_wifi_service', 'departure_arrival_time_convenient',\n",
    "       'ease_of_online_booking', 'gate_location', 'food_and_drink',\n",
    "       'online_boarding', 'seat_comfort', 'inflight_entertainment',\n",
    "      'on_board_service', 'leg_room_service', 'baggage_handling',\n",
    "       'checkin_service', 'inflight_service', 'cleanliness',\n",
    "       'departure_delay_in_minutes', 'arrival_delay_in_minutes']\n",
    "\n",
    "#features=  ['class', 'inflight_wifi_service','online_boarding', 'seat_comfort', 'inflight_entertainment','on_board_service', 'leg_room_service', 'checkin_service', 'inflight_service', \n",
    "#       'cleanliness', 'arrival_delay_in_minutes']\n",
    "\n",
    "X_train = X_train.loc[:, features]\n",
    "X_test = X_test.loc[:, features]\n",
    "X_val = X_val.loc[:, features]"
   ]
  },
  {
   "cell_type": "code",
   "execution_count": 4,
   "metadata": {},
   "outputs": [],
   "source": [
    "#scaler = StandardScaler()\n",
    "#X_train = scaler.fit_transform(X_train)\n",
    "#X_test = scaler.transform(X_test)\n",
    "#X_val = scaler.transform(X_val)"
   ]
  },
  {
   "cell_type": "markdown",
   "metadata": {},
   "source": [
    "# KNeighbors Classifier"
   ]
  },
  {
   "cell_type": "code",
   "execution_count": 5,
   "metadata": {},
   "outputs": [],
   "source": [
    "#vizinhos_k = [2, 3, 5, 6, 7, 8, 9, 10, 11]\n",
    "#melhor_k = None\n",
    "#melhor_desempenho = 0\n",
    "\n",
    "#for k in vizinhos_k:\n",
    "#    knn_classifier = KNeighborsClassifier(n_neighbors=k)\n",
    "#    knn_classifier.fit(X_train, y_train)\n",
    "#    y_pred = knn_classifier.predict(X_val)\n",
    "\n",
    "#    recall = mt.recall_score(y_val, y_pred, average='binary', pos_label=1)\n",
    "#    precision = mt.precision_score(y_val, y_pred, average='binary', pos_label=1)\n",
    "#    f1 = mt.f1_score(y_val, y_pred, average='binary', pos_label=1)\n",
    "#    accuracy = mt.accuracy_score(y_val, y_pred)\n",
    "    \n",
    "#    desempenho_atual = (recall + precision + f1 + accuracy) / 4\n",
    "    \n",
    "#    if desempenho_atual > melhor_desempenho:\n",
    "#        melhor_desempenho = desempenho_atual\n",
    "#        melhor_k = k\n",
    "\n",
    "#print(\"Melhor valor de k:\", melhor_k)\n",
    "#print(\"Melhor desempenho:\", melhor_desempenho)\n"
   ]
  },
  {
   "cell_type": "code",
   "execution_count": 6,
   "metadata": {},
   "outputs": [
    {
     "name": "stderr",
     "output_type": "stream",
     "text": [
      "/home/gustavo/.pyenv/versions/3.11.8/envs/KNN/lib/python3.11/site-packages/sklearn/neighbors/_classification.py:238: DataConversionWarning: A column-vector y was passed when a 1d array was expected. Please change the shape of y to (n_samples,), for example using ravel().\n",
      "  return self._fit(X, y)\n"
     ]
    }
   ],
   "source": [
    "\n",
    "knn_classifier = KNeighborsClassifier(n_neighbors=7)\n",
    "knn_classifier.fit(X_train, y_train)\n",
    "\n",
    "y_pred = knn_classifier.predict(X_test) \n",
    "\n",
    "knn_rec = mt.recall_score(y_test, y_pred, average='binary', pos_label=1) * 100\n",
    "knn_pre = mt.precision_score(y_test, y_pred, average='binary', pos_label=1) * 100\n",
    "knn_acc = mt.accuracy_score(y_test, y_pred) * 100\n",
    "knn_f1 = mt.f1_score(y_test, y_pred, average='binary', pos_label=1) * 100"
   ]
  },
  {
   "cell_type": "markdown",
   "metadata": {},
   "source": [
    "# Decision Tree"
   ]
  },
  {
   "cell_type": "code",
   "execution_count": 7,
   "metadata": {},
   "outputs": [],
   "source": [
    "#max_depth = [5,6,7,8,9,10,11,12,13,14]\n",
    "#melhor_depth = None\n",
    "#melhor_desempenho = 0\n",
    "\n",
    "#for m in max_depth:\n",
    "#    tree_clf = DecisionTreeClassifier(max_depth=m)\n",
    "\n",
    "#    tree_clf.fit( X_train, y_train )\n",
    "\n",
    "#    y_pred = tree_clf.predict( X_val )\n",
    "\n",
    "#    rec = mt.recall_score(y_val, y_pred, average='binary', pos_label=1)\n",
    "#    pre = mt.precision_score(y_val, y_pred, average='binary', pos_label=1)\n",
    "#    f1 = mt.f1_score(y_val, y_pred, average='binary', pos_label=1)\n",
    "#    acc = mt.accuracy_score(y_val, y_pred)\n",
    "    \n",
    "#    desempenho_atual = (rec + pre + f1 + acc) / 4\n",
    "    \n",
    "#    if desempenho_atual > melhor_desempenho:\n",
    "#        melhor_desempenho = desempenho_atual\n",
    "#        melhor_depth = m\n",
    "\n",
    "#print(\"Melhor valor de depth:\", melhor_depth)\n",
    "#print(\"Melhor desempenho:\", melhor_desempenho)\n"
   ]
  },
  {
   "cell_type": "code",
   "execution_count": 8,
   "metadata": {},
   "outputs": [],
   "source": [
    "# define\n",
    "tree_clf = DecisionTreeClassifier(max_depth=15)\n",
    "\n",
    "# training (fit)\n",
    "tree_clf.fit( X_train, y_train )\n",
    "\n",
    "# predict\n",
    "y_pred = tree_clf.predict( X_test )\n",
    "\n",
    "dec_rec = mt.recall_score(y_test, y_pred, pos_label=1) * 100\n",
    "dec_acc = mt.accuracy_score(y_test, y_pred) * 100\n",
    "dec_pre = mt.precision_score(y_test, y_pred) * 100\n",
    "dec_f1 = mt.f1_score(y_test, y_pred) * 100"
   ]
  },
  {
   "cell_type": "markdown",
   "metadata": {},
   "source": [
    "# Random Forest "
   ]
  },
  {
   "cell_type": "code",
   "execution_count": 9,
   "metadata": {},
   "outputs": [],
   "source": [
    "#n_estimators = [5,6,7,8,9,10,11,12,13,14,15,20,50]\n",
    "#max_depth = [4,6,7,8,9,10,11,12,13,14,15,16,20,25]\n",
    "\n",
    "#melhor_estimator = None\n",
    "#melhor_depth = None\n",
    "#melhor_desempenho = 0\n",
    "\n",
    "#for m in max_depth:\n",
    "#    for es in n_estimators: \n",
    "#        model = RandomForestClassifier( n_estimators=3,max_depth=3)\n",
    "#        model.fit( X_train, y_train)\n",
    "#        y_pred = model.predict( X_val )\n",
    "\n",
    "#        rec = mt.recall_score(y_val, y_pred, average='binary', pos_label=1)\n",
    "#        pre = mt.precision_score(y_val, y_pred, average='binary', pos_label=1)\n",
    "#        f1 = mt.f1_score(y_val, y_pred, average='binary', pos_label=1)\n",
    "#        acc = mt.accuracy_score(y_val, y_pred)\n",
    "        \n",
    "#        desempenho_atual = (rec + pre + f1 + acc) / 4\n",
    "        \n",
    "#        if desempenho_atual > melhor_desempenho:\n",
    "#            melhor_desempenho = desempenho_atual\n",
    "#            melhor_depth = m\n",
    "#            melhor_estimator = es\n",
    "\n",
    "#print(\"Melhor valor de estimator:\", melhor_estimator)\n",
    "#print(\"Melhor valor de depth:\", melhor_depth)\n",
    "#print(\"Melhor desempenho:\", melhor_desempenho)"
   ]
  },
  {
   "cell_type": "code",
   "execution_count": 10,
   "metadata": {},
   "outputs": [
    {
     "name": "stderr",
     "output_type": "stream",
     "text": [
      "/home/gustavo/.pyenv/versions/3.11.8/envs/KNN/lib/python3.11/site-packages/sklearn/base.py:1474: DataConversionWarning: A column-vector y was passed when a 1d array was expected. Please change the shape of y to (n_samples,), for example using ravel().\n",
      "  return fit_method(estimator, *args, **kwargs)\n"
     ]
    }
   ],
   "source": [
    "#define\n",
    "model = RandomForestClassifier( n_estimators=  14,\n",
    "                                max_depth= 8)\n",
    "\n",
    "#fit\n",
    "model.fit( X_train, y_train)\n",
    "\n",
    "#predict\n",
    "y_pred = model.predict( X_test )\n",
    "\n",
    "\n",
    "ran_rec = mt.recall_score(y_test, y_pred, average='binary', pos_label=1)*100\n",
    "ran_pre = mt.precision_score(y_test, y_pred, average='binary', pos_label=1)*100\n",
    "ran_f1 = mt.f1_score(y_test, y_pred, average='binary', pos_label=1)*100\n",
    "ran_acc = mt.accuracy_score(y_test, y_pred)*100\n"
   ]
  },
  {
   "cell_type": "code",
   "execution_count": 11,
   "metadata": {},
   "outputs": [
    {
     "data": {
      "image/png": "[encoded data removed]",
      "text/plain": [
       "<Figure size 640x480 with 1 Axes>"
      ]
     },
     "metadata": {},
     "output_type": "display_data"
    }
   ],
   "source": [
    "feature_names = [ f'features {i}' for i in range(X_train.shape[1]) ]\n",
    "importances = model.feature_importances_\n",
    "\n",
    "forest_importances = pd.Series( importances, index=feature_names)\n",
    "\n",
    "fig, ax = plt.subplots()\n",
    "forest_importances.plot.bar( ax=ax )\n",
    "ax.set_title('Feature importances using MDI')\n",
    "ax.set_ylabel('Mean decrease in impurity')\n",
    "fig.tight_layout()"
   ]
  },
  {
   "cell_type": "markdown",
   "metadata": {},
   "source": [
    "# Logistic Regression"
   ]
  },
  {
   "cell_type": "code",
   "execution_count": 12,
   "metadata": {},
   "outputs": [],
   "source": [
    "\n",
    "#solver = ['lbfgs', 'liblinear', 'newton-cg', 'newton-cholesky', 'sag', 'saga']\n",
    "#C = [0.3, 0.4, 0.5, 0.6, 0.7, 0.8, 0.9, 1]\n",
    "#max_iter = np.arange(1,20, 1)\n",
    "\n",
    "#melhor_solver = None\n",
    "#melhor_C = None\n",
    "#melhor_max_iter = None\n",
    "#melhor_desempenho = 0\n",
    "\n",
    "\n",
    "#for c in C:\n",
    "#    for m in max_iter:\n",
    "#        for s in solver:\n",
    "#            model = LogisticRegression(C=c, max_iter=m, solver=s)\n",
    "\n",
    "                # Fit\n",
    "#            model.fit(X_train, y_train)\n",
    "\n",
    "            # Predict\n",
    "#            y_pred = model.predict(X_test)\n",
    "\n",
    "            # Calculate performance metrics\n",
    "#            recall = mt.recall_score(y_test, y_pred, average='binary', pos_label=1)\n",
    "#            precision = mt.precision_score(y_test, y_pred, average='binary', pos_label=1)\n",
    "#            f1 = mt.f1_score(y_test, y_pred, average='binary', pos_label=1)\n",
    "#            accuracy = mt.accuracy_score(y_test, y_pred)\n",
    "#                \n",
    "#                # Calculate current performance\n",
    "#            desempenho_atual = (recall + precision + f1 + accuracy) / 4\n",
    "\n",
    "#            if desempenho_atual > melhor_desempenho:\n",
    "#                melhor_desempenho = desempenho_atual\n",
    "#                melhor_solver = s\n",
    "#                melhor_C = c\n",
    "#                melhor_max_iter = m\n",
    "\n",
    "#print(\"Melhor valor de solver:\", melhor_solver)\n",
    "#print(\"Melhor valor de C:\", melhor_C)\n",
    "#print(\"Melhor valor de max_iter:\", melhor_max_iter)\n",
    "#print(\"Melhor desempenho:\", melhor_desempenho)\n"
   ]
  },
  {
   "cell_type": "code",
   "execution_count": 13,
   "metadata": {},
   "outputs": [
    {
     "name": "stderr",
     "output_type": "stream",
     "text": [
      "/home/gustavo/.pyenv/versions/3.11.8/envs/KNN/lib/python3.11/site-packages/sklearn/utils/validation.py:1300: DataConversionWarning: A column-vector y was passed when a 1d array was expected. Please change the shape of y to (n_samples, ), for example using ravel().\n",
      "  y = column_or_1d(y, warn=True)\n",
      "/home/gustavo/.pyenv/versions/3.11.8/envs/KNN/lib/python3.11/site-packages/sklearn/linear_model/_sag.py:350: ConvergenceWarning: The max_iter was reached which means the coef_ did not converge\n",
      "  warnings.warn(\n"
     ]
    }
   ],
   "source": [
    "#define\n",
    "model = LogisticRegression(solver='sag', C=0.5, max_iter=1)\n",
    "\n",
    "#fit\n",
    "model.fit( X_train, y_train)\n",
    "\n",
    "#predict\n",
    "y_pred = model.predict( X_test )\n",
    "\n",
    "lr_rec = mt.recall_score(y_test, y_pred, average='binary', pos_label=1)*100\n",
    "lr_pre = mt.precision_score(y_test, y_pred, average='binary', pos_label=1)*100\n",
    "lr_f1 = mt.f1_score(y_test, y_pred, average='binary', pos_label=1)*100\n",
    "lr_acc = mt.accuracy_score(y_test, y_pred)*100"
   ]
  },
  {
   "cell_type": "markdown",
   "metadata": {},
   "source": [
    "# Sobre os dados de teste"
   ]
  },
  {
   "cell_type": "code",
   "execution_count": 14,
   "metadata": {},
   "outputs": [],
   "source": [
    "f1_lista_test = []\n",
    "rec_lista_test = []\n",
    "pre_lista_test = []\n",
    "acc_lista_test = []\n",
    "\n",
    "f1_lista_test.append(knn_f1)\n",
    "rec_lista_test.append(knn_rec)\n",
    "pre_lista_test.append(knn_pre)\n",
    "acc_lista_test.append(knn_acc)\n",
    "\n",
    "f1_lista_test.append(dec_f1)\n",
    "rec_lista_test.append(dec_rec)\n",
    "pre_lista_test.append(dec_pre)\n",
    "acc_lista_test.append(dec_acc)\n",
    "\n",
    "f1_lista_test.append(ran_f1)\n",
    "rec_lista_test.append(ran_rec)\n",
    "pre_lista_test.append(ran_pre)\n",
    "acc_lista_test.append(ran_acc)\n",
    "\n",
    "f1_lista_test.append(lr_f1)\n",
    "rec_lista_test.append(lr_rec)\n",
    "pre_lista_test.append(lr_pre)\n",
    "acc_lista_test.append(lr_acc)"
   ]
  },
  {
   "cell_type": "code",
   "execution_count": 15,
   "metadata": {},
   "outputs": [
    {
     "data": {
      "text/html": [
       "<div>\n",
       "<style scoped>\n",
       "    .dataframe tbody tr th:only-of-type {\n",
       "        vertical-align: middle;\n",
       "    }\n",
       "\n",
       "    .dataframe tbody tr th {\n",
       "        vertical-align: top;\n",
       "    }\n",
       "\n",
       "    .dataframe thead th {\n",
       "        text-align: right;\n",
       "    }\n",
       "</style>\n",
       "<table border=\"1\" class=\"dataframe\">\n",
       "  <thead>\n",
       "    <tr style=\"text-align: right;\">\n",
       "      <th></th>\n",
       "      <th>algoritimos</th>\n",
       "      <th>accuracy</th>\n",
       "      <th>precision</th>\n",
       "      <th>recall</th>\n",
       "      <th>f1 score</th>\n",
       "    </tr>\n",
       "  </thead>\n",
       "  <tbody>\n",
       "    <tr>\n",
       "      <th>0</th>\n",
       "      <td>knn_class</td>\n",
       "      <td>91.928320</td>\n",
       "      <td>93.540513</td>\n",
       "      <td>87.663880</td>\n",
       "      <td>90.506904</td>\n",
       "    </tr>\n",
       "    <tr>\n",
       "      <th>1</th>\n",
       "      <td>Decision_tree</td>\n",
       "      <td>93.747345</td>\n",
       "      <td>93.415895</td>\n",
       "      <td>92.256929</td>\n",
       "      <td>92.832795</td>\n",
       "    </tr>\n",
       "    <tr>\n",
       "      <th>2</th>\n",
       "      <td>Random Forest</td>\n",
       "      <td>92.828177</td>\n",
       "      <td>92.063352</td>\n",
       "      <td>91.553014</td>\n",
       "      <td>91.807473</td>\n",
       "    </tr>\n",
       "    <tr>\n",
       "      <th>3</th>\n",
       "      <td>Logistic Regression</td>\n",
       "      <td>83.902985</td>\n",
       "      <td>84.899622</td>\n",
       "      <td>77.025957</td>\n",
       "      <td>80.771360</td>\n",
       "    </tr>\n",
       "  </tbody>\n",
       "</table>\n",
       "</div>"
      ],
      "text/plain": [
       "           algoritimos   accuracy  precision     recall   f1 score\n",
       "0            knn_class  91.928320  93.540513  87.663880  90.506904\n",
       "1        Decision_tree  93.747345  93.415895  92.256929  92.832795\n",
       "2        Random Forest  92.828177  92.063352  91.553014  91.807473\n",
       "3  Logistic Regression  83.902985  84.899622  77.025957  80.771360"
      ]
     },
     "execution_count": 15,
     "metadata": {},
     "output_type": "execute_result"
    }
   ],
   "source": [
    "algoritimos_test = ['knn_class','Decision_tree', 'Random Forest', 'Logistic Regression'] \n",
    "\n",
    "resultados_test = pd.DataFrame({\n",
    "    'algoritimos':algoritimos_test,\n",
    "    'accuracy': acc_lista_test,\n",
    "    'precision': pre_lista_test,\n",
    "    'recall': rec_lista_test,\n",
    "    'f1 score': f1_lista_test\n",
    "})\n",
    "\n",
    "# Exiba a tabela de resultados\n",
    "resultados_test"
   ]
  },
  {
   "cell_type": "markdown",
   "metadata": {},
   "source": [
    "# Sobre os dados de treinamento"
   ]
  },
  {
   "cell_type": "code",
   "execution_count": 16,
   "metadata": {},
   "outputs": [
    {
     "name": "stderr",
     "output_type": "stream",
     "text": [
      "/home/gustavo/.pyenv/versions/3.11.8/envs/KNN/lib/python3.11/site-packages/sklearn/neighbors/_classification.py:238: DataConversionWarning: A column-vector y was passed when a 1d array was expected. Please change the shape of y to (n_samples,), for example using ravel().\n",
      "  return self._fit(X, y)\n"
     ]
    }
   ],
   "source": [
    "\n",
    "\n",
    "knn_classifier = KNeighborsClassifier(n_neighbors=7)\n",
    "knn_classifier.fit(X_train, y_train)\n",
    "\n",
    "y_pred = knn_classifier.predict(X_train) \n",
    "\n",
    "trainknn_rec = mt.recall_score(y_train, y_pred, average='binary', pos_label=1) * 100\n",
    "trainknn_pre = mt.precision_score(y_train, y_pred, average='binary', pos_label=1) * 100\n",
    "trainknn_acc = mt.accuracy_score(y_train, y_pred) * 100\n",
    "trainknn_f1 = mt.f1_score(y_train, y_pred, average='binary', pos_label=1) * 100"
   ]
  },
  {
   "cell_type": "code",
   "execution_count": 17,
   "metadata": {},
   "outputs": [],
   "source": [
    "# define\n",
    "tree_clf = DecisionTreeClassifier(max_depth=30)\n",
    "\n",
    "# training (fit)\n",
    "tree_clf.fit( X_train, y_train )\n",
    "\n",
    "# predict\n",
    "y_pred = tree_clf.predict( X_train )\n",
    "\n",
    "traindec_rec = mt.recall_score(y_train, y_pred, pos_label=1) * 100\n",
    "traindec_acc = mt.accuracy_score(y_train, y_pred) * 100\n",
    "traindec_pre = mt.precision_score(y_train, y_pred) * 100\n",
    "traindec_f1 = mt.f1_score(y_train, y_pred) * 100"
   ]
  },
  {
   "cell_type": "code",
   "execution_count": 18,
   "metadata": {},
   "outputs": [
    {
     "name": "stderr",
     "output_type": "stream",
     "text": [
      "/home/gustavo/.pyenv/versions/3.11.8/envs/KNN/lib/python3.11/site-packages/sklearn/base.py:1474: DataConversionWarning: A column-vector y was passed when a 1d array was expected. Please change the shape of y to (n_samples,), for example using ravel().\n",
      "  return fit_method(estimator, *args, **kwargs)\n"
     ]
    }
   ],
   "source": [
    "#define\n",
    "model = RandomForestClassifier( n_estimators=  30,\n",
    "                                max_depth= 25)\n",
    "\n",
    "#fit\n",
    "model.fit( X_train, y_train)\n",
    "\n",
    "#predict\n",
    "y_pred = model.predict( X_train )\n",
    "\n",
    "\n",
    "trainran_rec = mt.recall_score(y_train, y_pred, average='binary', pos_label=1)*100\n",
    "trainran_pre = mt.precision_score(y_train, y_pred, average='binary', pos_label=1)*100\n",
    "trainran_f1 = mt.f1_score(y_train, y_pred, average='binary', pos_label=1)*100\n",
    "trainran_acc = mt.accuracy_score(y_train, y_pred)*100"
   ]
  },
  {
   "cell_type": "code",
   "execution_count": 19,
   "metadata": {},
   "outputs": [
    {
     "name": "stderr",
     "output_type": "stream",
     "text": [
      "/home/gustavo/.pyenv/versions/3.11.8/envs/KNN/lib/python3.11/site-packages/sklearn/utils/validation.py:1300: DataConversionWarning: A column-vector y was passed when a 1d array was expected. Please change the shape of y to (n_samples, ), for example using ravel().\n",
      "  y = column_or_1d(y, warn=True)\n",
      "/home/gustavo/.pyenv/versions/3.11.8/envs/KNN/lib/python3.11/site-packages/sklearn/linear_model/_sag.py:350: ConvergenceWarning: The max_iter was reached which means the coef_ did not converge\n",
      "  warnings.warn(\n"
     ]
    }
   ],
   "source": [
    "#define\n",
    "model = LogisticRegression(solver='sag', C=0.5, max_iter=5)\n",
    "\n",
    "#fit\n",
    "model.fit( X_train, y_train)\n",
    "\n",
    "#predict\n",
    "y_pred = model.predict( X_train )\n",
    "\n",
    "trainlr_rec = mt.recall_score(y_train, y_pred, average='binary', pos_label=1)*100\n",
    "trainlr_pre = mt.precision_score(y_train, y_pred, average='binary', pos_label=1)*100\n",
    "trainlr_f1 = mt.f1_score(y_train, y_pred, average='binary', pos_label=1)*100\n",
    "trainlr_acc = mt.accuracy_score(y_train, y_pred)*100"
   ]
  },
  {
   "cell_type": "code",
   "execution_count": 20,
   "metadata": {},
   "outputs": [],
   "source": [
    "f1_lista_train = []\n",
    "rec_lista_train = []\n",
    "pre_lista_train = []\n",
    "acc_lista_train = []\n",
    "\n",
    "f1_lista_train.append(trainknn_f1)\n",
    "rec_lista_train.append(trainknn_rec)\n",
    "pre_lista_train.append(trainknn_pre)\n",
    "acc_lista_train.append(trainknn_acc)\n",
    "\n",
    "f1_lista_train.append(traindec_f1)\n",
    "rec_lista_train.append(traindec_rec)\n",
    "pre_lista_train.append(traindec_pre)\n",
    "acc_lista_train.append(traindec_acc)\n",
    "\n",
    "f1_lista_train.append(trainran_f1)\n",
    "rec_lista_train.append(trainran_rec)\n",
    "pre_lista_train.append(trainran_pre)\n",
    "acc_lista_train.append(trainran_acc)\n",
    "\n",
    "f1_lista_train.append(trainlr_f1)\n",
    "rec_lista_train.append(trainlr_rec)\n",
    "pre_lista_train.append(trainlr_pre)\n",
    "acc_lista_train.append(trainlr_acc)"
   ]
  },
  {
   "cell_type": "code",
   "execution_count": 21,
   "metadata": {},
   "outputs": [
    {
     "data": {
      "text/html": [
       "<div>\n",
       "<style scoped>\n",
       "    .dataframe tbody tr th:only-of-type {\n",
       "        vertical-align: middle;\n",
       "    }\n",
       "\n",
       "    .dataframe tbody tr th {\n",
       "        vertical-align: top;\n",
       "    }\n",
       "\n",
       "    .dataframe thead th {\n",
       "        text-align: right;\n",
       "    }\n",
       "</style>\n",
       "<table border=\"1\" class=\"dataframe\">\n",
       "  <thead>\n",
       "    <tr style=\"text-align: right;\">\n",
       "      <th></th>\n",
       "      <th>algoritimos</th>\n",
       "      <th>accuracy</th>\n",
       "      <th>precision</th>\n",
       "      <th>recall</th>\n",
       "      <th>f1 score</th>\n",
       "    </tr>\n",
       "  </thead>\n",
       "  <tbody>\n",
       "    <tr>\n",
       "      <th>0</th>\n",
       "      <td>knn_class</td>\n",
       "      <td>93.889540</td>\n",
       "      <td>95.595339</td>\n",
       "      <td>90.050274</td>\n",
       "      <td>92.739993</td>\n",
       "    </tr>\n",
       "    <tr>\n",
       "      <th>1</th>\n",
       "      <td>Decision_tree</td>\n",
       "      <td>99.940702</td>\n",
       "      <td>99.949072</td>\n",
       "      <td>99.914089</td>\n",
       "      <td>99.931578</td>\n",
       "    </tr>\n",
       "    <tr>\n",
       "      <th>2</th>\n",
       "      <td>Random_Forest</td>\n",
       "      <td>99.937944</td>\n",
       "      <td>99.984073</td>\n",
       "      <td>99.872725</td>\n",
       "      <td>99.928368</td>\n",
       "    </tr>\n",
       "    <tr>\n",
       "      <th>3</th>\n",
       "      <td>Logistic_Regression</td>\n",
       "      <td>84.826588</td>\n",
       "      <td>84.252893</td>\n",
       "      <td>79.928726</td>\n",
       "      <td>82.033865</td>\n",
       "    </tr>\n",
       "  </tbody>\n",
       "</table>\n",
       "</div>"
      ],
      "text/plain": [
       "           algoritimos   accuracy  precision     recall   f1 score\n",
       "0            knn_class  93.889540  95.595339  90.050274  92.739993\n",
       "1        Decision_tree  99.940702  99.949072  99.914089  99.931578\n",
       "2        Random_Forest  99.937944  99.984073  99.872725  99.928368\n",
       "3  Logistic_Regression  84.826588  84.252893  79.928726  82.033865"
      ]
     },
     "execution_count": 21,
     "metadata": {},
     "output_type": "execute_result"
    }
   ],
   "source": [
    "algoritimos_train = ['knn_class', 'Decision_tree', 'Random_Forest', 'Logistic_Regression'] \n",
    "\n",
    "resultados_train = pd.DataFrame({\n",
    "    'algoritimos':algoritimos_train,\n",
    "    'accuracy': acc_lista_train,\n",
    "    'precision': pre_lista_train,\n",
    "    'recall': rec_lista_train,\n",
    "    'f1 score': f1_lista_train\n",
    "})\n",
    "\n",
    "# Exiba a tabela de resultados\n",
    "resultados_train"
   ]
  },
  {
   "cell_type": "markdown",
   "metadata": {},
   "source": [
    "# Sobre os dados de validaçao"
   ]
  },
  {
   "cell_type": "code",
   "execution_count": 22,
   "metadata": {},
   "outputs": [
    {
     "name": "stderr",
     "output_type": "stream",
     "text": [
      "/home/gustavo/.pyenv/versions/3.11.8/envs/KNN/lib/python3.11/site-packages/sklearn/neighbors/_classification.py:238: DataConversionWarning: A column-vector y was passed when a 1d array was expected. Please change the shape of y to (n_samples,), for example using ravel().\n",
      "  return self._fit(X, y)\n"
     ]
    }
   ],
   "source": [
    "\n",
    "knn_classifier = KNeighborsClassifier(n_neighbors=5)\n",
    "knn_classifier.fit(X_train, y_train)\n",
    "\n",
    "y_pred = knn_classifier.predict(X_val) \n",
    "\n",
    "valknn_rec = mt.recall_score(y_val, y_pred, average='binary', pos_label=1) * 100\n",
    "valknn_pre = mt.precision_score(y_val, y_pred, average='binary', pos_label=1) * 100\n",
    "valknn_acc = mt.accuracy_score(y_val, y_pred) * 100\n",
    "valknn_f1 = mt.f1_score(y_val, y_pred, average='binary', pos_label=1) * 100"
   ]
  },
  {
   "cell_type": "code",
   "execution_count": 23,
   "metadata": {},
   "outputs": [],
   "source": [
    "# define\n",
    "tree_clf = DecisionTreeClassifier(max_depth=30)\n",
    "\n",
    "# training (fit)\n",
    "tree_clf.fit( X_train, y_train )\n",
    "\n",
    "# predict\n",
    "y_pred = tree_clf.predict( X_val )\n",
    "\n",
    "valdec_rec = mt.recall_score(y_val, y_pred, pos_label=1) * 100\n",
    "valdec_acc = mt.accuracy_score(y_val, y_pred) * 100\n",
    "valdec_pre = mt.precision_score(y_val, y_pred) * 100\n",
    "valdec_f1 = mt.f1_score(y_val, y_pred) * 100\n"
   ]
  },
  {
   "cell_type": "code",
   "execution_count": 24,
   "metadata": {},
   "outputs": [
    {
     "name": "stderr",
     "output_type": "stream",
     "text": [
      "/home/gustavo/.pyenv/versions/3.11.8/envs/KNN/lib/python3.11/site-packages/sklearn/base.py:1474: DataConversionWarning: A column-vector y was passed when a 1d array was expected. Please change the shape of y to (n_samples,), for example using ravel().\n",
      "  return fit_method(estimator, *args, **kwargs)\n"
     ]
    }
   ],
   "source": [
    "#define\n",
    "model = RandomForestClassifier( n_estimators=  30,\n",
    "                                max_depth= 25)\n",
    "\n",
    "#fit\n",
    "model.fit( X_train, y_train)\n",
    "\n",
    "#predict\n",
    "y_pred = model.predict( X_val )\n",
    "\n",
    "\n",
    "valran_rec = mt.recall_score(y_val, y_pred, average='binary', pos_label=1)*100\n",
    "valran_pre = mt.precision_score(y_val, y_pred, average='binary', pos_label=1)*100\n",
    "valran_f1 = mt.f1_score(y_val, y_pred, average='binary', pos_label=1)*100\n",
    "valran_acc = mt.accuracy_score(y_val, y_pred)*100"
   ]
  },
  {
   "cell_type": "code",
   "execution_count": 25,
   "metadata": {},
   "outputs": [
    {
     "name": "stderr",
     "output_type": "stream",
     "text": [
      "/home/gustavo/.pyenv/versions/3.11.8/envs/KNN/lib/python3.11/site-packages/sklearn/utils/validation.py:1300: DataConversionWarning: A column-vector y was passed when a 1d array was expected. Please change the shape of y to (n_samples, ), for example using ravel().\n",
      "  y = column_or_1d(y, warn=True)\n",
      "/home/gustavo/.pyenv/versions/3.11.8/envs/KNN/lib/python3.11/site-packages/sklearn/linear_model/_sag.py:350: ConvergenceWarning: The max_iter was reached which means the coef_ did not converge\n",
      "  warnings.warn(\n"
     ]
    }
   ],
   "source": [
    "#define\n",
    "model = LogisticRegression(solver='sag', C=0.5, max_iter=5)\n",
    "\n",
    "#fit\n",
    "model.fit( X_train, y_train)\n",
    "\n",
    "#predict\n",
    "y_pred = model.predict( X_val )\n",
    "\n",
    "vallr_rec = mt.recall_score(y_val, y_pred, average='binary', pos_label=1)*100\n",
    "vallr_pre = mt.precision_score(y_val, y_pred, average='binary', pos_label=1)*100\n",
    "vallr_f1 = mt.f1_score(y_val, y_pred, average='binary', pos_label=1)*100\n",
    "vallr_acc = mt.accuracy_score(y_val, y_pred)*100"
   ]
  },
  {
   "cell_type": "code",
   "execution_count": 26,
   "metadata": {},
   "outputs": [],
   "source": [
    "f1_lista_val = []\n",
    "rec_lista_val = []\n",
    "pre_lista_val = []\n",
    "acc_lista_val = []\n",
    "\n",
    "f1_lista_val.append(valknn_f1)\n",
    "rec_lista_val.append(valknn_rec)\n",
    "pre_lista_val.append(valknn_pre)\n",
    "acc_lista_val.append(valknn_acc)\n",
    "\n",
    "f1_lista_val.append(valdec_f1)\n",
    "rec_lista_val.append(valdec_rec)\n",
    "pre_lista_val.append(valdec_pre)\n",
    "acc_lista_val.append(valdec_acc)\n",
    "\n",
    "f1_lista_val.append(valran_f1)\n",
    "rec_lista_val.append(valran_rec)\n",
    "pre_lista_val.append(valran_pre)\n",
    "acc_lista_val.append(valran_acc)\n",
    "\n",
    "f1_lista_val.append(vallr_f1)\n",
    "rec_lista_val.append(vallr_rec)\n",
    "pre_lista_val.append(vallr_pre)\n",
    "acc_lista_val.append(vallr_acc)"
   ]
  },
  {
   "cell_type": "code",
   "execution_count": 27,
   "metadata": {},
   "outputs": [
    {
     "data": {
      "text/html": [
       "<div>\n",
       "<style scoped>\n",
       "    .dataframe tbody tr th:only-of-type {\n",
       "        vertical-align: middle;\n",
       "    }\n",
       "\n",
       "    .dataframe tbody tr th {\n",
       "        vertical-align: top;\n",
       "    }\n",
       "\n",
       "    .dataframe thead th {\n",
       "        text-align: right;\n",
       "    }\n",
       "</style>\n",
       "<table border=\"1\" class=\"dataframe\">\n",
       "  <thead>\n",
       "    <tr style=\"text-align: right;\">\n",
       "      <th></th>\n",
       "      <th>algoritimos</th>\n",
       "      <th>accuracy</th>\n",
       "      <th>precision</th>\n",
       "      <th>recall</th>\n",
       "      <th>f1 score</th>\n",
       "    </tr>\n",
       "  </thead>\n",
       "  <tbody>\n",
       "    <tr>\n",
       "      <th>0</th>\n",
       "      <td>knn_class</td>\n",
       "      <td>92.020335</td>\n",
       "      <td>93.397046</td>\n",
       "      <td>87.794194</td>\n",
       "      <td>90.508993</td>\n",
       "    </tr>\n",
       "    <tr>\n",
       "      <th>1</th>\n",
       "      <td>Decision_tree</td>\n",
       "      <td>92.937353</td>\n",
       "      <td>91.375514</td>\n",
       "      <td>92.427055</td>\n",
       "      <td>91.898276</td>\n",
       "    </tr>\n",
       "    <tr>\n",
       "      <th>2</th>\n",
       "      <td>Random_Forest</td>\n",
       "      <td>95.106020</td>\n",
       "      <td>96.010474</td>\n",
       "      <td>92.553270</td>\n",
       "      <td>94.250180</td>\n",
       "    </tr>\n",
       "    <tr>\n",
       "      <th>3</th>\n",
       "      <td>Logistic_Regression</td>\n",
       "      <td>83.734998</td>\n",
       "      <td>80.296702</td>\n",
       "      <td>82.782686</td>\n",
       "      <td>81.520746</td>\n",
       "    </tr>\n",
       "  </tbody>\n",
       "</table>\n",
       "</div>"
      ],
      "text/plain": [
       "           algoritimos   accuracy  precision     recall   f1 score\n",
       "0            knn_class  92.020335  93.397046  87.794194  90.508993\n",
       "1        Decision_tree  92.937353  91.375514  92.427055  91.898276\n",
       "2        Random_Forest  95.106020  96.010474  92.553270  94.250180\n",
       "3  Logistic_Regression  83.734998  80.296702  82.782686  81.520746"
      ]
     },
     "execution_count": 27,
     "metadata": {},
     "output_type": "execute_result"
    }
   ],
   "source": [
    "algoritimos_val = ['knn_class', 'Decision_tree', 'Random_Forest', 'Logistic_Regression'] \n",
    "\n",
    "resultados_val = pd.DataFrame({\n",
    "    'algoritimos':algoritimos_val,\n",
    "    'accuracy': acc_lista_val,\n",
    "    'precision': pre_lista_val,\n",
    "    'recall': rec_lista_val,\n",
    "    'f1 score': f1_lista_val\n",
    "})\n",
    "\n",
    "# Exiba a tabela de resultados\n",
    "resultados_val"
   ]
  },
  {
   "cell_type": "markdown",
   "metadata": {},
   "source": [
    "# as tabelas"
   ]
  },
  {
   "cell_type": "code",
   "execution_count": 28,
   "metadata": {},
   "outputs": [
    {
     "data": {
      "text/html": [
       "<div>\n",
       "<style scoped>\n",
       "    .dataframe tbody tr th:only-of-type {\n",
       "        vertical-align: middle;\n",
       "    }\n",
       "\n",
       "    .dataframe tbody tr th {\n",
       "        vertical-align: top;\n",
       "    }\n",
       "\n",
       "    .dataframe thead th {\n",
       "        text-align: right;\n",
       "    }\n",
       "</style>\n",
       "<table border=\"1\" class=\"dataframe\">\n",
       "  <thead>\n",
       "    <tr style=\"text-align: right;\">\n",
       "      <th></th>\n",
       "      <th>algoritimos</th>\n",
       "      <th>accuracy</th>\n",
       "      <th>precision</th>\n",
       "      <th>recall</th>\n",
       "      <th>f1 score</th>\n",
       "    </tr>\n",
       "  </thead>\n",
       "  <tbody>\n",
       "    <tr>\n",
       "      <th>0</th>\n",
       "      <td>knn_class</td>\n",
       "      <td>93.889540</td>\n",
       "      <td>95.595339</td>\n",
       "      <td>90.050274</td>\n",
       "      <td>92.739993</td>\n",
       "    </tr>\n",
       "    <tr>\n",
       "      <th>1</th>\n",
       "      <td>Decision_tree</td>\n",
       "      <td>99.940702</td>\n",
       "      <td>99.949072</td>\n",
       "      <td>99.914089</td>\n",
       "      <td>99.931578</td>\n",
       "    </tr>\n",
       "    <tr>\n",
       "      <th>2</th>\n",
       "      <td>Random_Forest</td>\n",
       "      <td>99.937944</td>\n",
       "      <td>99.984073</td>\n",
       "      <td>99.872725</td>\n",
       "      <td>99.928368</td>\n",
       "    </tr>\n",
       "    <tr>\n",
       "      <th>3</th>\n",
       "      <td>Logistic_Regression</td>\n",
       "      <td>84.826588</td>\n",
       "      <td>84.252893</td>\n",
       "      <td>79.928726</td>\n",
       "      <td>82.033865</td>\n",
       "    </tr>\n",
       "  </tbody>\n",
       "</table>\n",
       "</div>"
      ],
      "text/plain": [
       "           algoritimos   accuracy  precision     recall   f1 score\n",
       "0            knn_class  93.889540  95.595339  90.050274  92.739993\n",
       "1        Decision_tree  99.940702  99.949072  99.914089  99.931578\n",
       "2        Random_Forest  99.937944  99.984073  99.872725  99.928368\n",
       "3  Logistic_Regression  84.826588  84.252893  79.928726  82.033865"
      ]
     },
     "execution_count": 28,
     "metadata": {},
     "output_type": "execute_result"
    }
   ],
   "source": [
    "resultados_train"
   ]
  },
  {
   "cell_type": "code",
   "execution_count": 29,
   "metadata": {},
   "outputs": [
    {
     "data": {
      "text/html": [
       "<div>\n",
       "<style scoped>\n",
       "    .dataframe tbody tr th:only-of-type {\n",
       "        vertical-align: middle;\n",
       "    }\n",
       "\n",
       "    .dataframe tbody tr th {\n",
       "        vertical-align: top;\n",
       "    }\n",
       "\n",
       "    .dataframe thead th {\n",
       "        text-align: right;\n",
       "    }\n",
       "</style>\n",
       "<table border=\"1\" class=\"dataframe\">\n",
       "  <thead>\n",
       "    <tr style=\"text-align: right;\">\n",
       "      <th></th>\n",
       "      <th>algoritimos</th>\n",
       "      <th>accuracy</th>\n",
       "      <th>precision</th>\n",
       "      <th>recall</th>\n",
       "      <th>f1 score</th>\n",
       "    </tr>\n",
       "  </thead>\n",
       "  <tbody>\n",
       "    <tr>\n",
       "      <th>0</th>\n",
       "      <td>knn_class</td>\n",
       "      <td>91.928320</td>\n",
       "      <td>93.540513</td>\n",
       "      <td>87.663880</td>\n",
       "      <td>90.506904</td>\n",
       "    </tr>\n",
       "    <tr>\n",
       "      <th>1</th>\n",
       "      <td>Decision_tree</td>\n",
       "      <td>93.747345</td>\n",
       "      <td>93.415895</td>\n",
       "      <td>92.256929</td>\n",
       "      <td>92.832795</td>\n",
       "    </tr>\n",
       "    <tr>\n",
       "      <th>2</th>\n",
       "      <td>Random Forest</td>\n",
       "      <td>92.828177</td>\n",
       "      <td>92.063352</td>\n",
       "      <td>91.553014</td>\n",
       "      <td>91.807473</td>\n",
       "    </tr>\n",
       "    <tr>\n",
       "      <th>3</th>\n",
       "      <td>Logistic Regression</td>\n",
       "      <td>83.902985</td>\n",
       "      <td>84.899622</td>\n",
       "      <td>77.025957</td>\n",
       "      <td>80.771360</td>\n",
       "    </tr>\n",
       "  </tbody>\n",
       "</table>\n",
       "</div>"
      ],
      "text/plain": [
       "           algoritimos   accuracy  precision     recall   f1 score\n",
       "0            knn_class  91.928320  93.540513  87.663880  90.506904\n",
       "1        Decision_tree  93.747345  93.415895  92.256929  92.832795\n",
       "2        Random Forest  92.828177  92.063352  91.553014  91.807473\n",
       "3  Logistic Regression  83.902985  84.899622  77.025957  80.771360"
      ]
     },
     "execution_count": 29,
     "metadata": {},
     "output_type": "execute_result"
    }
   ],
   "source": [
    "resultados_test"
   ]
  },
  {
   "cell_type": "code",
   "execution_count": 30,
   "metadata": {},
   "outputs": [
    {
     "data": {
      "text/html": [
       "<div>\n",
       "<style scoped>\n",
       "    .dataframe tbody tr th:only-of-type {\n",
       "        vertical-align: middle;\n",
       "    }\n",
       "\n",
       "    .dataframe tbody tr th {\n",
       "        vertical-align: top;\n",
       "    }\n",
       "\n",
       "    .dataframe thead th {\n",
       "        text-align: right;\n",
       "    }\n",
       "</style>\n",
       "<table border=\"1\" class=\"dataframe\">\n",
       "  <thead>\n",
       "    <tr style=\"text-align: right;\">\n",
       "      <th></th>\n",
       "      <th>algoritimos</th>\n",
       "      <th>accuracy</th>\n",
       "      <th>precision</th>\n",
       "      <th>recall</th>\n",
       "      <th>f1 score</th>\n",
       "    </tr>\n",
       "  </thead>\n",
       "  <tbody>\n",
       "    <tr>\n",
       "      <th>0</th>\n",
       "      <td>knn_class</td>\n",
       "      <td>92.020335</td>\n",
       "      <td>93.397046</td>\n",
       "      <td>87.794194</td>\n",
       "      <td>90.508993</td>\n",
       "    </tr>\n",
       "    <tr>\n",
       "      <th>1</th>\n",
       "      <td>Decision_tree</td>\n",
       "      <td>92.937353</td>\n",
       "      <td>91.375514</td>\n",
       "      <td>92.427055</td>\n",
       "      <td>91.898276</td>\n",
       "    </tr>\n",
       "    <tr>\n",
       "      <th>2</th>\n",
       "      <td>Random_Forest</td>\n",
       "      <td>95.106020</td>\n",
       "      <td>96.010474</td>\n",
       "      <td>92.553270</td>\n",
       "      <td>94.250180</td>\n",
       "    </tr>\n",
       "    <tr>\n",
       "      <th>3</th>\n",
       "      <td>Logistic_Regression</td>\n",
       "      <td>83.734998</td>\n",
       "      <td>80.296702</td>\n",
       "      <td>82.782686</td>\n",
       "      <td>81.520746</td>\n",
       "    </tr>\n",
       "  </tbody>\n",
       "</table>\n",
       "</div>"
      ],
      "text/plain": [
       "           algoritimos   accuracy  precision     recall   f1 score\n",
       "0            knn_class  92.020335  93.397046  87.794194  90.508993\n",
       "1        Decision_tree  92.937353  91.375514  92.427055  91.898276\n",
       "2        Random_Forest  95.106020  96.010474  92.553270  94.250180\n",
       "3  Logistic_Regression  83.734998  80.296702  82.782686  81.520746"
      ]
     },
     "execution_count": 30,
     "metadata": {},
     "output_type": "execute_result"
    }
   ],
   "source": [
    "resultados_val"
   ]
  }
 ],
 "metadata": {
  "kernelspec": {
   "display_name": "KNN",
   "language": "python",
   "name": "python3"
  },
  "language_info": {
   "codemirror_mode": {
    "name": "ipython",
    "version": 3
   },
   "file_extension": ".py",
   "mimetype": "text/x-python",
   "name": "python",
   "nbconvert_exporter": "python",
   "pygments_lexer": "ipython3",
   "version": "3.11.8"
  }
 },
 "nbformat": 4,
 "nbformat_minor": 2
}
