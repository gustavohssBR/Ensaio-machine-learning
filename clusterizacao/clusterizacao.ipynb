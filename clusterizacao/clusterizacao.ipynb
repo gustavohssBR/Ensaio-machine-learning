{
 "cells": [
  {
   "cell_type": "code",
   "execution_count": 17,
   "metadata": {},
   "outputs": [],
   "source": [
    "import pandas as pd\n",
    "import numpy as np\n",
    "\n",
    "import sklearn.metrics   as mt\n",
    "import matplotlib.pyplot as plt\n",
    "\n",
    "from sklearn.cluster import KMeans\n",
    "from sklearn.cluster import AffinityPropagation\n",
    "\n",
    "from sklearn.preprocessing import StandardScaler, MinMaxScaler, Normalizer\n",
    "from sklearn.decomposition import PCA"
   ]
  },
  {
   "cell_type": "markdown",
   "metadata": {},
   "source": [
    "https://github.com/manoelmendonca/Ensaio-de-Machine-Learning/tree/main"
   ]
  },
  {
   "cell_type": "code",
   "execution_count": 18,
   "metadata": {},
   "outputs": [],
   "source": [
    "path_xtrain = 'datasets//X_dataset.csv'\n",
    "\n",
    "X_train = pd.read_csv( path_xtrain )"
   ]
  },
  {
   "cell_type": "markdown",
   "metadata": {},
   "source": [
    "# KMeans"
   ]
  },
  {
   "cell_type": "code",
   "execution_count": 19,
   "metadata": {},
   "outputs": [
    {
     "name": "stdout",
     "output_type": "stream",
     "text": [
      "Melhor número de clusters: 10\n",
      "Melhores features mais importantes nos centroides:\n",
      "Index(['ash_alcanity', 'ash', 'proanthocyanins', 'color_intensity', 'alcohol',\n",
      "       'nonflavanoid_phenols', 'magnesium', 'od280', 'flavanoids', 'proline',\n",
      "       'total_phenols', 'hue', 'malic_acid'],\n",
      "      dtype='object')\n"
     ]
    }
   ],
   "source": [
    "from sklearn.cluster import KMeans\n",
    "import pandas as pd\n",
    "\n",
    "# Definir uma lista de números de clusters para testar\n",
    "n_clusters_list = [2, 3, 4, 5, 6, 7, 8, 9, 10]\n",
    "\n",
    "# Inicializar variáveis para armazenar o melhor resultado\n",
    "best_score = float('-inf')\n",
    "best_n_clusters = None\n",
    "best_important_features = None\n",
    "\n",
    "# Loop for sobre diferentes números de clusters\n",
    "for n_clusters in n_clusters_list:\n",
    "    # Treinar o modelo KMeans\n",
    "    kmeans = KMeans(n_clusters=n_clusters)\n",
    "    labels = kmeans.fit_predict(X_train)\n",
    "\n",
    "    # Obter os centroides\n",
    "    centroids = kmeans.cluster_centers_\n",
    "\n",
    "    # Identificar as features mais importantes nos centroides\n",
    "    feature_importance = centroids.max(axis=0) - centroids.min(axis=0)\n",
    "    important_features = X_train.columns[feature_importance.argsort()[::-1]]\n",
    "\n",
    "    # Calcular o score (você pode usar uma métrica interna do KMeans ou uma externa, como a silhouette_score)\n",
    "    score = kmeans.score(X_train)\n",
    "\n",
    "    # Verificar se o resultado atual é o melhor até agora\n",
    "    if score > best_score:\n",
    "        best_score = score\n",
    "        best_n_clusters = n_clusters\n",
    "        best_important_features = important_features\n",
    "\n",
    "# Imprimir o melhor resultado\n",
    "print(\"Melhor número de clusters:\", best_n_clusters)\n",
    "print(\"Melhores features mais importantes nos centroides:\")\n",
    "print(best_important_features)\n",
    "\n",
    "\n"
   ]
  },
  {
   "cell_type": "code",
   "execution_count": 20,
   "metadata": {},
   "outputs": [],
   "source": [
    "X = X_train.loc[:, best_important_features]"
   ]
  },
  {
   "cell_type": "code",
   "execution_count": 21,
   "metadata": {},
   "outputs": [
    {
     "name": "stdout",
     "output_type": "stream",
     "text": [
      "Para n_clusters = 2, a média do coeficiente de silhueta = 0.6455159805936248\n",
      "Para n_clusters = 3, a média do coeficiente de silhueta = 0.5969023623345473\n",
      "Para n_clusters = 4, a média do coeficiente de silhueta = 0.5728963330095751\n",
      "Para n_clusters = 5, a média do coeficiente de silhueta = 0.5813438907027562\n",
      "Para n_clusters = 6, a média do coeficiente de silhueta = 0.5939162915676511\n",
      "Para n_clusters = 7, a média do coeficiente de silhueta = 0.5928233405886698\n",
      "Para n_clusters = 8, a média do coeficiente de silhueta = 0.6097149794167036\n",
      "Para n_clusters = 9, a média do coeficiente de silhueta = 0.6224354508652088\n",
      "Para n_clusters = 10, a média do coeficiente de silhueta = 0.614764485527037\n",
      "Para n_clusters = 11, a média do coeficiente de silhueta = 0.6148696598807972\n",
      "Para n_clusters = 12, a média do coeficiente de silhueta = 0.6109711176667669\n",
      "Para n_clusters = 13, a média do coeficiente de silhueta = 0.6051458295259186\n",
      "Para n_clusters = 14, a média do coeficiente de silhueta = 0.5976571271246245\n"
     ]
    }
   ],
   "source": [
    "Ns_clusters = np.arange(2, 15, 1)\n",
    "\n",
    "ss_list = []\n",
    "\n",
    "\n",
    "# Normalização dos dados\n",
    "scaler = Normalizer()\n",
    "X_train_scaled = scaler.fit_transform(X)\n",
    "\n",
    "# Redução de dimensionalidade (opcional)\n",
    "pca = PCA(n_components=0.15)  # Manter 95% da variância\n",
    "X_train_pca = pca.fit_transform(X_train_scaled)\n",
    "\n",
    "\n",
    "for c in Ns_clusters:\n",
    "    kmeans = KMeans(n_clusters=c,  \n",
    "                    init='random',  # Inicialização inteligente\n",
    "                    n_init=500)      # Aumentar o número máximo de iterações\n",
    "    # Fit (treinamento)                   \n",
    "    labels = kmeans.fit_predict(X_train_pca)\n",
    "\n",
    "    # Performance\n",
    "    ss_avg = mt.silhouette_score(X_train_pca, labels)\n",
    "    ss_list.append(ss_avg)\n",
    "\n",
    "    print('Para n_clusters = {}, a média do coeficiente de silhueta = {}'.format(c, ss_avg))\n",
    "\n"
   ]
  },
  {
   "cell_type": "code",
   "execution_count": 22,
   "metadata": {},
   "outputs": [
    {
     "name": "stdout",
     "output_type": "stream",
     "text": [
      " a média do coeficiente de silhueta = 0.6097149794167036\n"
     ]
    }
   ],
   "source": [
    "# Normalização dos dados\n",
    "scaler = Normalizer()\n",
    "X_train_scaled = scaler.fit_transform(X)\n",
    "\n",
    "# Redução de dimensionalidade (opcional)\n",
    "pca = PCA(n_components=0.15)  # Manter 95% da variância\n",
    "X_train_pca = pca.fit_transform(X_train_scaled)\n",
    "\n",
    "kmeans = KMeans(n_clusters=8,  \n",
    "                init='random',  # Inicialização inteligente\n",
    "                n_init=500)      # Aumentar o número máximo de iterações\n",
    "    \n",
    "# Fit (treinamento)                   \n",
    "labels = kmeans.fit_predict(X_train_pca)\n",
    "\n",
    "n_clustersK = len(np.unique(labels))\n",
    "# Performance\n",
    "Kss = mt.silhouette_score(X_train_pca, labels)\n",
    "print(' a média do coeficiente de silhueta = {}'.format( Kss ))"
   ]
  },
  {
   "cell_type": "markdown",
   "metadata": {},
   "source": [
    "# silhouette_score"
   ]
  },
  {
   "cell_type": "code",
   "execution_count": 23,
   "metadata": {},
   "outputs": [
    {
     "name": "stderr",
     "output_type": "stream",
     "text": [
      "/home/gustavo/.pyenv/versions/3.11.8/envs/KNN/lib/python3.11/site-packages/sklearn/cluster/_affinity_propagation.py:142: ConvergenceWarning: Affinity propagation did not converge, this model may return degenerate cluster centers and labels.\n",
      "  warnings.warn(\n"
     ]
    },
    {
     "name": "stdout",
     "output_type": "stream",
     "text": [
      "Preference=-50, Número de clusters=11, Coeficiente de silhueta=0.40238435585019827\n"
     ]
    },
    {
     "name": "stderr",
     "output_type": "stream",
     "text": [
      "/home/gustavo/.pyenv/versions/3.11.8/envs/KNN/lib/python3.11/site-packages/sklearn/cluster/_affinity_propagation.py:142: ConvergenceWarning: Affinity propagation did not converge, this model may return degenerate cluster centers and labels.\n",
      "  warnings.warn(\n"
     ]
    },
    {
     "name": "stdout",
     "output_type": "stream",
     "text": [
      "Preference=-40, Número de clusters=18, Coeficiente de silhueta=0.3539017651507886\n"
     ]
    },
    {
     "name": "stderr",
     "output_type": "stream",
     "text": [
      "/home/gustavo/.pyenv/versions/3.11.8/envs/KNN/lib/python3.11/site-packages/sklearn/cluster/_affinity_propagation.py:142: ConvergenceWarning: Affinity propagation did not converge, this model may return degenerate cluster centers and labels.\n",
      "  warnings.warn(\n"
     ]
    },
    {
     "name": "stdout",
     "output_type": "stream",
     "text": [
      "Preference=-30, Número de clusters=95, Coeficiente de silhueta=0.15015253594848704\n",
      "Preference=-20, Número de clusters=54, Coeficiente de silhueta=0.2780742093937147\n",
      "Preference=-10, Número de clusters=9, Coeficiente de silhueta=0.3844841829610872\n",
      "\n",
      "Melhor modelo: Número de clusters=11, Coeficiente de silhueta=0.40238435585019827\n"
     ]
    },
    {
     "name": "stderr",
     "output_type": "stream",
     "text": [
      "/home/gustavo/.pyenv/versions/3.11.8/envs/KNN/lib/python3.11/site-packages/sklearn/cluster/_affinity_propagation.py:142: ConvergenceWarning: Affinity propagation did not converge, this model may return degenerate cluster centers and labels.\n",
      "  warnings.warn(\n",
      "/home/gustavo/.pyenv/versions/3.11.8/envs/KNN/lib/python3.11/site-packages/sklearn/cluster/_affinity_propagation.py:142: ConvergenceWarning: Affinity propagation did not converge, this model may return degenerate cluster centers and labels.\n",
      "  warnings.warn(\n"
     ]
    }
   ],
   "source": [
    "\n",
    "\n",
    "# Pré-processamento dos dados com StandardScaler\n",
    "scaler = StandardScaler()\n",
    "X_scaled = scaler.fit_transform(X)\n",
    "\n",
    "# Redução de dimensionalidade com PCA (encontrando o número de componentes principais adequado)\n",
    "pca = PCA(n_components=0.15)\n",
    "X_pca = pca.fit_transform(X_scaled)\n",
    "\n",
    "# Ajuste do modelo Affinity Propagation com diferentes valores de damping e preference\n",
    "\n",
    "preference_values = [-50, -40, -30, -20, -10]  # Experimente diferentes valores negativos\n",
    "best_silhouette_score = -1\n",
    "best_model = None\n",
    "\n",
    "for preference in preference_values:\n",
    "    af = AffinityPropagation(preference=preference).fit(X_pca)\n",
    "    cluster_centers_indices = af.cluster_centers_indices_\n",
    "    labels = af.labels_\n",
    "    n_clusters_ = len(cluster_centers_indices)\n",
    "    silhouette_score = mt.silhouette_score(X_pca, labels, metric='euclidean')\n",
    "\n",
    "    print(f\"Preference={preference}, Número de clusters={n_clusters_}, Coeficiente de silhueta={silhouette_score}\")\n",
    "\n",
    "    # Mantém o melhor modelo baseado no coeficiente de silhueta\n",
    "    if silhouette_score > best_silhouette_score:\n",
    "        best_silhouette_score = silhouette_score\n",
    "        best_model = af\n",
    "\n",
    "# Avaliação do melhor modelo\n",
    "labels = best_model.labels_\n",
    "cluster_centers_indices = best_model.cluster_centers_indices_\n",
    "n_clusters_ = len(cluster_centers_indices)\n",
    "\n",
    "print(f\"\\nMelhor modelo: Número de clusters={n_clusters_}, Coeficiente de silhueta={best_silhouette_score}\")\n",
    "\n",
    "\n",
    "\n"
   ]
  },
  {
   "cell_type": "code",
   "execution_count": 24,
   "metadata": {},
   "outputs": [
    {
     "name": "stdout",
     "output_type": "stream",
     "text": [
      "Preference=-10, Número de clusters=3, Coeficiente de silhueta=0.6087786640261164\n"
     ]
    },
    {
     "name": "stderr",
     "output_type": "stream",
     "text": [
      "/home/gustavo/.pyenv/versions/3.11.8/envs/KNN/lib/python3.11/site-packages/sklearn/cluster/_affinity_propagation.py:142: ConvergenceWarning: Affinity propagation did not converge, this model may return degenerate cluster centers and labels.\n",
      "  warnings.warn(\n"
     ]
    }
   ],
   "source": [
    "af = AffinityPropagation(preference=-40).fit(X_pca)\n",
    "cluster_centers_indices = af.cluster_centers_indices_\n",
    "labels = af.labels_\n",
    "n_clustersA = len(cluster_centers_indices)\n",
    "Ass = mt.silhouette_score(X_pca, labels, metric='euclidean')\n",
    "\n",
    "print(f\"Preference={preference}, Número de clusters={n_clustersA}, Coeficiente de silhueta={Ass}\")"
   ]
  },
  {
   "cell_type": "code",
   "execution_count": 25,
   "metadata": {},
   "outputs": [],
   "source": [
    "silhouette_lista = []\n",
    "n_clusters_lista = []\n",
    "\n",
    "n_clusters_lista.append(n_clustersA)\n",
    "silhouette_lista.append(Kss)\n",
    "\n",
    "n_clusters_lista.append(n_clustersK)\n",
    "silhouette_lista.append(Ass)\n"
   ]
  },
  {
   "cell_type": "code",
   "execution_count": 26,
   "metadata": {},
   "outputs": [
    {
     "data": {
      "text/html": [
       "<div>\n",
       "<style scoped>\n",
       "    .dataframe tbody tr th:only-of-type {\n",
       "        vertical-align: middle;\n",
       "    }\n",
       "\n",
       "    .dataframe tbody tr th {\n",
       "        vertical-align: top;\n",
       "    }\n",
       "\n",
       "    .dataframe thead th {\n",
       "        text-align: right;\n",
       "    }\n",
       "</style>\n",
       "<table border=\"1\" class=\"dataframe\">\n",
       "  <thead>\n",
       "    <tr style=\"text-align: right;\">\n",
       "      <th></th>\n",
       "      <th>algoritimos</th>\n",
       "      <th>silhouette_score</th>\n",
       "      <th>numero_clusters</th>\n",
       "    </tr>\n",
       "  </thead>\n",
       "  <tbody>\n",
       "    <tr>\n",
       "      <th>0</th>\n",
       "      <td>kmeans</td>\n",
       "      <td>0.609715</td>\n",
       "      <td>3</td>\n",
       "    </tr>\n",
       "    <tr>\n",
       "      <th>1</th>\n",
       "      <td>AffinityPropagation</td>\n",
       "      <td>0.608779</td>\n",
       "      <td>8</td>\n",
       "    </tr>\n",
       "  </tbody>\n",
       "</table>\n",
       "</div>"
      ],
      "text/plain": [
       "           algoritimos  silhouette_score  numero_clusters\n",
       "0               kmeans          0.609715                3\n",
       "1  AffinityPropagation          0.608779                8"
      ]
     },
     "execution_count": 26,
     "metadata": {},
     "output_type": "execute_result"
    }
   ],
   "source": [
    "algoritimos = ['kmeans' ,'AffinityPropagation'] \n",
    "\n",
    "resultados_tabela = pd.DataFrame({\n",
    "    'algoritimos':algoritimos,\n",
    "    'silhouette_score': silhouette_lista,\n",
    "    'numero_clusters': n_clusters_lista\n",
    "})\n",
    "# Exiba a tabela de resultados\n",
    "resultados_tabela"
   ]
  }
 ],
 "metadata": {
  "kernelspec": {
   "display_name": "KNN",
   "language": "python",
   "name": "python3"
  },
  "language_info": {
   "codemirror_mode": {
    "name": "ipython",
    "version": 3
   },
   "file_extension": ".py",
   "mimetype": "text/x-python",
   "name": "python",
   "nbconvert_exporter": "python",
   "pygments_lexer": "ipython3",
   "version": "3.11.8"
  }
 },
 "nbformat": 4,
 "nbformat_minor": 2
}
